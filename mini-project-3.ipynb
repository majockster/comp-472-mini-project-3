{
 "cells": [
  {
   "cell_type": "code",
   "execution_count": 22,
   "id": "e67263c1",
   "metadata": {},
   "outputs": [],
   "source": [
    "from gensim import corpora, models, similarities, downloader\n",
    "import csv\n",
    "import numpy as np"
   ]
  },
  {
   "cell_type": "code",
   "execution_count": 11,
   "id": "542b56f9",
   "metadata": {},
   "outputs": [
    {
     "name": "stdout",
     "output_type": "stream",
     "text": [
      "<gensim.models.keyedvectors.KeyedVectors object at 0x000002268BAE4B20>\n"
     ]
    }
   ],
   "source": [
    "dataset = downloader.load('word2vec-google-news-300')\n",
    "print(dataset)"
   ]
  },
  {
   "cell_type": "code",
   "execution_count": 49,
   "id": "61612e61",
   "metadata": {},
   "outputs": [],
   "source": [
    "# if len(dataset['king']) != 0:\n",
    "#     print(\"hello\")\n",
    "row_pairs = []\n",
    "lines = []\n",
    "with open(\"synonyms.csv\",'r') as test:\n",
    "    csvreader = csv.reader(test)\n",
    "    next(csvreader)\n",
    "    #0: question, 1: answer, 2-5: choices\n",
    "    for row in csvreader:\n",
    "        lines.append(row)\n",
    "        pairs = [] \n",
    "        for i in range(len(row)):\n",
    "            if i < 2:\n",
    "                continue\n",
    "            pairs.append((row[0],row[i]))\n",
    "        row_pairs.append(pairs)\n",
    "with open('word2vec-google-news-300-details.csv', 'w', newline='') as new_file:\n",
    "    csvwriter = csv.writer(new_file,delimiter=',')\n",
    "    count = 0\n",
    "    guess = False\n",
    "    correct = True\n",
    "    csvwriter.writerow(['Question','Answer','Guessed_Word','Result Label'])\n",
    "    for pairs in row_pairs:\n",
    "        cosine = []\n",
    "        row = []\n",
    "        for x,y in pairs:\n",
    "            if x in dataset and y in dataset:\n",
    "                cosine.append(dataset.similarity(x,y))\n",
    "        row.append(lines[count][0])\n",
    "        row.append(lines[count][1])\n",
    "        if len(cosine) != 0:\n",
    "            guessed_word = pairs[np.argmax(cosine)][1]\n",
    "            row.append(guessed_word)\n",
    "            if guessed_word == lines[count][1]:\n",
    "                row.append('Correct')\n",
    "            else:\n",
    "                row.append('Wrong')\n",
    "        else:\n",
    "            row.append('Guess')\n",
    "            row.append('Guess')\n",
    "        csvwriter.writerow(row)\n",
    "        count += 1"
   ]
  },
  {
   "cell_type": "code",
   "execution_count": null,
   "id": "a30d0023",
   "metadata": {},
   "outputs": [],
   "source": []
  }
 ],
 "metadata": {
  "kernelspec": {
   "display_name": "Python 3 (ipykernel)",
   "language": "python",
   "name": "python3"
  },
  "language_info": {
   "codemirror_mode": {
    "name": "ipython",
    "version": 3
   },
   "file_extension": ".py",
   "mimetype": "text/x-python",
   "name": "python",
   "nbconvert_exporter": "python",
   "pygments_lexer": "ipython3",
   "version": "3.9.5"
  }
 },
 "nbformat": 4,
 "nbformat_minor": 5
}

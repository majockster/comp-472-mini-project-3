{
 "cells": [
  {
   "cell_type": "code",
   "execution_count": 3,
   "id": "e67263c1",
   "metadata": {},
   "outputs": [
    {
     "name": "stderr",
     "output_type": "stream",
     "text": [
      "/Users/scavenger/opt/miniconda3/lib/python3.9/site-packages/gensim/similarities/__init__.py:15: UserWarning: The gensim.similarities.levenshtein submodule is disabled, because the optional Levenshtein package <https://pypi.org/project/python-Levenshtein/> is unavailable. Install Levenhstein (e.g. `pip install python-Levenshtein`) to suppress this warning.\n",
      "  warnings.warn(msg)\n"
     ]
    }
   ],
   "source": [
    "from gensim import corpora, models, similarities, downloader\n",
    "import csv\n",
    "import numpy as np"
   ]
  },
  {
   "cell_type": "code",
   "execution_count": 4,
   "id": "542b56f9",
   "metadata": {},
   "outputs": [
    {
     "name": "stdout",
     "output_type": "stream",
     "text": [
      "<gensim.models.keyedvectors.KeyedVectors object at 0x7fae29f22e80>\n"
     ]
    }
   ],
   "source": [
    "dataset = downloader.load('word2vec-google-news-300')\n",
    "print(dataset)"
   ]
  },
  {
   "cell_type": "code",
   "execution_count": 5,
   "id": "61612e61",
   "metadata": {},
   "outputs": [],
   "source": [
    "# if len(dataset['king']) != 0:\n",
    "#     print(\"hello\")\n",
    "row_pairs = []\n",
    "lines = []\n",
    "with open(\"synonyms.csv\",'r') as test:\n",
    "    csvreader = csv.reader(test)\n",
    "    next(csvreader)\n",
    "    #0: question, 1: answer, 2-5: choices\n",
    "    for row in csvreader:\n",
    "        lines.append(row)\n",
    "        pairs = [] \n",
    "        for i in range(len(row)):\n",
    "            if i < 2:\n",
    "                continue\n",
    "            pairs.append((row[0],row[i]))\n",
    "        row_pairs.append(pairs)\n",
    "with open('word2vec-google-news-300-details.csv', 'w', newline='') as new_file:\n",
    "    csvwriter = csv.writer(new_file,delimiter=',')\n",
    "    count = 0\n",
    "    guess = False\n",
    "    correct = True\n",
    "    csvwriter.writerow(['Question','Answer','Guessed_Word','Result Label'])\n",
    "    for pairs in row_pairs:\n",
    "        cosine = []\n",
    "        row = []\n",
    "        for x,y in pairs:\n",
    "            if x in dataset and y in dataset:\n",
    "                cosine.append(dataset.similarity(x,y))\n",
    "        row.append(lines[count][0])\n",
    "        row.append(lines[count][1])\n",
    "        if len(cosine) != 0:\n",
    "            guessed_word = pairs[np.argmax(cosine)][1]\n",
    "            row.append(guessed_word)\n",
    "            if guessed_word == lines[count][1]:\n",
    "                row.append('Correct')\n",
    "            else:\n",
    "                row.append('Wrong')\n",
    "        else:\n",
    "            row.append('Guess')\n",
    "            row.append('Guess')\n",
    "        csvwriter.writerow(row)\n",
    "        count += 1"
   ]
  },
  {
   "cell_type": "code",
   "execution_count": 6,
   "id": "a30d0023",
   "metadata": {},
   "outputs": [],
   "source": [
    "vocab_size = dataset.vectors.shape[0]\n",
    "file = open(\"word2vec-google-news-300-details.csv\", 'r')\n",
    "read_data = file.read()\n",
    "correct_count = read_data.lower().count(\"correct\")\n",
    "wrong_count = read_data.lower().count(\"wrong\")\n",
    "accuracy = (correct_count/(correct_count+wrong_count))"
   ]
  },
  {
   "cell_type": "code",
   "execution_count": 7,
   "id": "a6e31096",
   "metadata": {},
   "outputs": [],
   "source": [
    "with open('analysis.csv', 'w', newline='') as csvfile:\n",
    "    csvwriter = csv.writer(csvfile,delimiter=',')\n",
    "    csvwriter.writerow(['Model Name','Vocab Size','Correct Number','Wrong Number', 'Accuracy'])\n",
    "    csvwriter.writerow([\"word2vec-google-news-300-details.csv\", vocab_size, correct_count, wrong_count, accuracy])"
   ]
  },
  {
   "cell_type": "code",
   "execution_count": null,
   "id": "d2848dc7",
   "metadata": {},
   "outputs": [],
   "source": []
  }
 ],
 "metadata": {
  "kernelspec": {
   "display_name": "Python 3 (ipykernel)",
   "language": "python",
   "name": "python3"
  },
  "language_info": {
   "codemirror_mode": {
    "name": "ipython",
    "version": 3
   },
   "file_extension": ".py",
   "mimetype": "text/x-python",
   "name": "python",
   "nbconvert_exporter": "python",
   "pygments_lexer": "ipython3",
   "version": "3.9.5"
  }
 },
 "nbformat": 4,
 "nbformat_minor": 5
}

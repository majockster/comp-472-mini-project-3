{
 "cells": [
  {
   "cell_type": "code",
   "execution_count": 12,
   "id": "46852171",
   "metadata": {},
   "outputs": [],
   "source": [
    "from gensim import corpora, models, similarities, downloader\n",
    "import csv\n",
    "import numpy as np"
   ]
  },
  {
   "cell_type": "code",
   "execution_count": 13,
   "id": "a738ed73",
   "metadata": {},
   "outputs": [
    {
     "name": "stdout",
     "output_type": "stream",
     "text": [
      "Success\n"
     ]
    }
   ],
   "source": [
    "dataset = downloader.load('glove-twitter-100')\n",
    "#glove-wiki-gigaword-50\n",
    "#glove-twitter-25\n",
    "#glove-twitter-50\n",
    "#glove-twitter-100\n",
    "print('Success')"
   ]
  },
  {
   "cell_type": "code",
   "execution_count": 14,
   "id": "285e4fcc",
   "metadata": {},
   "outputs": [],
   "source": [
    "# if len(dataset['king']) != 0:\n",
    "#     print(\"hello\")\n",
    "row_pairs = []\n",
    "lines = []\n",
    "with open(\"sample_28.txt\",'r') as test:\n",
    "    \n",
    "    #0: question, 1: answer, 2-5: choices\n",
    "    for row in test:\n",
    "        lines.append(row)\n",
    "        pairs = [] \n",
    "        for i in range(len(row)):\n",
    "            if i < 2:\n",
    "                continue\n",
    "            pairs.append((row[0],row[i]))\n",
    "        row_pairs.append(pairs)\n",
    "with open('word2vec-google-news-300-details.csv', 'w', newline='') as new_file:\n",
    "    csvwriter = csv.writer(new_file,delimiter=',')\n",
    "    count = 0\n",
    "    guess = False\n",
    "    correct = True\n",
    "    csvwriter.writerow(['Question','Answer','Guessed_Word','Result Label'])\n",
    "    for pairs in row_pairs:\n",
    "        cosine = []\n",
    "        row = []\n",
    "        for x,y in pairs:\n",
    "            if x in dataset and y in dataset:\n",
    "                cosine.append(dataset.similarity(x,y))\n",
    "        row.append(lines[count][0])\n",
    "        row.append(lines[count][1])\n",
    "        if len(cosine) != 0:\n",
    "            guessed_word = pairs[np.argmax(cosine)][1]\n",
    "            row.append(guessed_word)\n",
    "            if guessed_word == lines[count][5]:\n",
    "                row.append('Correct')\n",
    "            else:\n",
    "                row.append('Wrong')\n",
    "        else:\n",
    "            row.append('Guess')\n",
    "            row.append('Guess')\n",
    "        csvwriter.writerow(row)\n",
    "        count += 1"
   ]
  },
  {
   "cell_type": "code",
   "execution_count": 15,
   "id": "096e018c",
   "metadata": {},
   "outputs": [],
   "source": [
    "vocab_size = dataset.vectors.shape[0]\n",
    "file = open(\"word2vec-google-news-300-details.csv\", 'r')\n",
    "read_data = file.read()\n",
    "correct_count = read_data.lower().count(\"correct\")\n",
    "wrong_count = read_data.lower().count(\"wrong\")\n",
    "accuracy = (correct_count/(correct_count+wrong_count))"
   ]
  },
  {
   "cell_type": "code",
   "execution_count": 18,
   "id": "337c7d32",
   "metadata": {},
   "outputs": [],
   "source": [
    "with open('analysis.csv', 'w', newline='') as csvfile:\n",
    "    csvwriter = csv.writer(csvfile,delimiter=',')\n",
    "    csvwriter.writerow(['Model Name','Vocab Size','Correct Number','Wrong Number', 'Accuracy'])\n",
    "    csvwriter.writerow([\"word2vec-google-news-300-details.csv\", vocab_size, correct_count, wrong_count, accuracy])"
   ]
  },
  {
   "cell_type": "code",
   "execution_count": null,
   "id": "4e4941fc",
   "metadata": {},
   "outputs": [],
   "source": []
  }
 ],
 "metadata": {
  "kernelspec": {
   "display_name": "Python 3 (ipykernel)",
   "language": "python",
   "name": "python3"
  },
  "language_info": {
   "codemirror_mode": {
    "name": "ipython",
    "version": 3
   },
   "file_extension": ".py",
   "mimetype": "text/x-python",
   "name": "python",
   "nbconvert_exporter": "python",
   "pygments_lexer": "ipython3",
   "version": "3.9.5"
  }
 },
 "nbformat": 4,
 "nbformat_minor": 5
}
